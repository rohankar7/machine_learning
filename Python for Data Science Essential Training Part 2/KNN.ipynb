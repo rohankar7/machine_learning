{
 "cells": [
  {
   "cell_type": "code",
   "execution_count": 1,
   "id": "4f03b15d",
   "metadata": {},
   "outputs": [],
   "source": [
    "# K-Nearest Neighbor Classification\n",
    "\n",
    "# A supervised classifier that memorizes observations from within a test set to predict classification labels for new, unlabeled observations.\n",
    "# It makes predictions based on how similar training observations are to the new, incoming observations.\n",
    "# The more similar the observation values, the more likely they will be classified with the same label."
   ]
  },
  {
   "cell_type": "code",
   "execution_count": 2,
   "id": "95226745",
   "metadata": {},
   "outputs": [],
   "source": [
    "# Use cases of K-Nearest Neighbor\n",
    "\n",
    "# Stock Price Prediction\n",
    "# Predictive Trip Planning\n",
    "# Credit Risk Analysis\n",
    "# Recommendation Systems"
   ]
  },
  {
   "cell_type": "code",
   "execution_count": 3,
   "id": "8537d747",
   "metadata": {},
   "outputs": [],
   "source": [
    "# Assumptions\n",
    "\n",
    "# Dataset has a little noise\n",
    "# Dataset is labeled\n",
    "# Dataset only contains relevant features\n",
    "# Dataset has distinguishable subgroups\n",
    "# Avoid using KNN on large datasets. It will probably take a long time."
   ]
  },
  {
   "cell_type": "code",
   "execution_count": 6,
   "id": "771eca5c",
   "metadata": {},
   "outputs": [],
   "source": [
    "# Instance based learning with K_Nearest Neighbor\n",
    "\n",
    "import numpy as np\n",
    "import pandas as pd\n",
    "import scipy\n",
    "import urllib\n",
    "import sklearn\n",
    "\n",
    "import matplotlib.pyplot as plt\n",
    "from pylab import rcParams\n",
    "\n",
    "from sklearn import neighbors\n",
    "from sklearn import preprocessing\n",
    "from sklearn.model_selection import train_test_split\n",
    "from sklearn import metrics"
   ]
  },
  {
   "cell_type": "code",
   "execution_count": 7,
   "id": "7967d2d7",
   "metadata": {},
   "outputs": [],
   "source": [
    "from sklearn.neighbors import KNeighborsClassifier"
   ]
  },
  {
   "cell_type": "code",
   "execution_count": 8,
   "id": "b6f85457",
   "metadata": {},
   "outputs": [
    {
     "name": "stderr",
     "output_type": "stream",
     "text": [
      "/tmp/ipykernel_71873/653485647.py:4: MatplotlibDeprecationWarning: The seaborn styles shipped by Matplotlib are deprecated since 3.6, as they no longer correspond to the styles shipped by seaborn. However, they will remain available as 'seaborn-v0_8-<style>'. Alternatively, directly use the seaborn API instead.\n",
      "  plt.style.use('seaborn-whitegrid')\n"
     ]
    }
   ],
   "source": [
    "np.set_printoptions(precision=4, suppress=True)\n",
    "%matplotlib inline\n",
    "rcParams['figure.figsize'] = 7,4\n",
    "plt.style.use('seaborn-whitegrid')"
   ]
  },
  {
   "cell_type": "code",
   "execution_count": 9,
   "id": "d0705215",
   "metadata": {},
   "outputs": [],
   "source": [
    "# Importing the data\n",
    "\n",
    "address = './Data/mtcars.csv'\n",
    "cars = pd.read_csv(address)\n",
    "cars.columns = ['car_names',\n",
    "                'mpg',\n",
    "                'cyl',\n",
    "               'disp',\n",
    "               'hp',\n",
    "               'drat',\n",
    "               'wt',\n",
    "               'qsec',\n",
    "               'vs',\n",
    "               'am',\n",
    "               'gear',\n",
    "               'carb']\n",
    "\n",
    "X_prime = cars[['mpg', 'disp', 'hp', 'wt']].values\n",
    "y = cars.iloc[:,9].values"
   ]
  },
  {
   "cell_type": "code",
   "execution_count": 16,
   "id": "29c0ee2a",
   "metadata": {},
   "outputs": [],
   "source": [
    "X = preprocessing.scale(X_prime)"
   ]
  },
  {
   "cell_type": "code",
   "execution_count": 17,
   "id": "c65afe0f",
   "metadata": {},
   "outputs": [],
   "source": [
    "X_train, X_test, y_train, y_test = train_test_split(X,y,test_size=0.2,random_state=17)"
   ]
  },
  {
   "cell_type": "code",
   "execution_count": 18,
   "id": "02b48e8c",
   "metadata": {},
   "outputs": [
    {
     "name": "stdout",
     "output_type": "stream",
     "text": [
      "KNeighborsClassifier()\n"
     ]
    }
   ],
   "source": [
    "# Building and training your model with training data\n",
    "\n",
    "clf = neighbors.KNeighborsClassifier()\n",
    "clf.fit(X_train, y_train)\n",
    "print(clf)"
   ]
  },
  {
   "cell_type": "code",
   "execution_count": 19,
   "id": "6740a1ee",
   "metadata": {},
   "outputs": [
    {
     "name": "stdout",
     "output_type": "stream",
     "text": [
      "              precision    recall  f1-score   support\n",
      "\n",
      "           0       0.80      1.00      0.89         4\n",
      "           1       1.00      0.67      0.80         3\n",
      "\n",
      "    accuracy                           0.86         7\n",
      "   macro avg       0.90      0.83      0.84         7\n",
      "weighted avg       0.89      0.86      0.85         7\n",
      "\n"
     ]
    }
   ],
   "source": [
    "# Evaluating the model's predictions\n",
    "\n",
    "y_pred = clf.predict(X_test)\n",
    "y_expect = y_test\n",
    "\n",
    "print(metrics.classification_report(y_expect, y_pred))"
   ]
  },
  {
   "cell_type": "code",
   "execution_count": 20,
   "id": "271fe890",
   "metadata": {},
   "outputs": [],
   "source": [
    "# High Precision + Low Recall = Few results returned, but many of the label predictions that are returned are correct."
   ]
  },
  {
   "cell_type": "code",
   "execution_count": null,
   "id": "0075739d",
   "metadata": {},
   "outputs": [],
   "source": []
  }
 ],
 "metadata": {
  "kernelspec": {
   "display_name": "Python 3 (ipykernel)",
   "language": "python",
   "name": "python3"
  },
  "language_info": {
   "codemirror_mode": {
    "name": "ipython",
    "version": 3
   },
   "file_extension": ".py",
   "mimetype": "text/x-python",
   "name": "python",
   "nbconvert_exporter": "python",
   "pygments_lexer": "ipython3",
   "version": "3.11.6"
  }
 },
 "nbformat": 4,
 "nbformat_minor": 5
}
