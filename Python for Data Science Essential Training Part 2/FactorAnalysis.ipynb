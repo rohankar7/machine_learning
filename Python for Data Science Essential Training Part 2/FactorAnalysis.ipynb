{
 "cells": [
  {
   "cell_type": "code",
   "execution_count": 1,
   "id": "47e82eb4",
   "metadata": {},
   "outputs": [],
   "source": [
    "# Factor Analysis is a method that explores a data set in order to find the root causes which explain why data is acting a certain way\n",
    "\n",
    "# Factors (or latent variables): variables that are quite meaningful but that are inferred and not directly observable"
   ]
  },
  {
   "cell_type": "code",
   "execution_count": 2,
   "id": "4469a24f",
   "metadata": {},
   "outputs": [],
   "source": [
    "# Factor Analysis Assumptions\n",
    "\n",
    "# Features are metric\n",
    "# Features are continuous or ordinal\n",
    "# There is r > 0.3 correlation between the features in the data set\n",
    "# There are > 100 observations and > 5 observations per feature\n",
    "# Sample is homogeneous"
   ]
  },
  {
   "cell_type": "code",
   "execution_count": 3,
   "id": "61e0b462",
   "metadata": {},
   "outputs": [],
   "source": [
    "# Factor Loading\n",
    "# ~ -1 or 1 = Factor has a strong influence on the variable\n",
    "# ~ 0 = Factor weakly influences on the variable\n",
    "# > 1 = Highly correlated factors"
   ]
  },
  {
   "cell_type": "code",
   "execution_count": 4,
   "id": "6f4ed760",
   "metadata": {},
   "outputs": [],
   "source": [
    "# Explanatory Factor Analysis\n",
    "\n",
    "import pandas as pd\n",
    "import numpy as np\n",
    "\n",
    "import sklearn\n",
    "from sklearn.decomposition import FactorAnalysis\n",
    "\n",
    "from sklearn import datasets"
   ]
  },
  {
   "cell_type": "code",
   "execution_count": 6,
   "id": "a524670d",
   "metadata": {},
   "outputs": [
    {
     "data": {
      "text/plain": [
       "array([[5.1, 3.5, 1.4, 0.2],\n",
       "       [4.9, 3. , 1.4, 0.2],\n",
       "       [4.7, 3.2, 1.3, 0.2],\n",
       "       [4.6, 3.1, 1.5, 0.2],\n",
       "       [5. , 3.6, 1.4, 0.2],\n",
       "       [5.4, 3.9, 1.7, 0.4],\n",
       "       [4.6, 3.4, 1.4, 0.3],\n",
       "       [5. , 3.4, 1.5, 0.2],\n",
       "       [4.4, 2.9, 1.4, 0.2],\n",
       "       [4.9, 3.1, 1.5, 0.1]])"
      ]
     },
     "execution_count": 6,
     "metadata": {},
     "output_type": "execute_result"
    }
   ],
   "source": [
    "#  Factor Analysis\n",
    "\n",
    "iris = datasets.load_iris()\n",
    "\n",
    "X = iris.data\n",
    "variable_names = iris.feature_names\n",
    "\n",
    "X[0:10,]"
   ]
  },
  {
   "cell_type": "code",
   "execution_count": 7,
   "id": "c3781a19",
   "metadata": {},
   "outputs": [
    {
     "name": "stdout",
     "output_type": "stream",
     "text": [
      "   sepal length (cm)  sepal width (cm)  petal length (cm)  petal width (cm)\n",
      "0           0.706989         -0.158005           1.654236           0.70085\n",
      "1           0.115161          0.159635          -0.044321          -0.01403\n",
      "2          -0.000000          0.000000           0.000000           0.00000\n",
      "3          -0.000000          0.000000           0.000000          -0.00000\n"
     ]
    }
   ],
   "source": [
    "factor = FactorAnalysis().fit(X)\n",
    "\n",
    "df = pd.DataFrame(factor.components_, columns = variable_names)\n",
    "print(df)"
   ]
  },
  {
   "cell_type": "code",
   "execution_count": null,
   "id": "1ff3c918",
   "metadata": {},
   "outputs": [],
   "source": []
  }
 ],
 "metadata": {
  "kernelspec": {
   "display_name": "Python 3 (ipykernel)",
   "language": "python",
   "name": "python3"
  },
  "language_info": {
   "codemirror_mode": {
    "name": "ipython",
    "version": 3
   },
   "file_extension": ".py",
   "mimetype": "text/x-python",
   "name": "python",
   "nbconvert_exporter": "python",
   "pygments_lexer": "ipython3",
   "version": "3.11.6"
  }
 },
 "nbformat": 4,
 "nbformat_minor": 5
}
