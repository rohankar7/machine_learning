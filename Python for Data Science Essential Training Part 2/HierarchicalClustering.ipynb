{
 "cells": [
  {
   "cell_type": "code",
   "execution_count": 1,
   "id": "e1a3b407",
   "metadata": {},
   "outputs": [],
   "source": [
    "# Hierarchical Clustering\n",
    "\n",
    "# The algorithm uses the distance metric it calculates to predict sugroups\n",
    "\n",
    "# To guess the number of subgroups in a dataset, first look\n",
    "# at a dendogram visualization of the clustering results\n",
    "\n",
    "# What's a dendrogram you hesitate to ask?\n",
    "# Well, it's a tree graph that's useful for visually displaying\n",
    "# taxonomies, lineages, and relatedness"
   ]
  },
  {
   "cell_type": "code",
   "execution_count": 2,
   "id": "a01e204e",
   "metadata": {},
   "outputs": [],
   "source": [
    "# Use cases of Hierarchical Clustering\n",
    "\n",
    "# 1) Hospital Resource Management\n",
    "# 2) Business Process Management\n",
    "# 3) Customer Segmentation\n",
    "# 4) Social Network Analysis"
   ]
  },
  {
   "cell_type": "code",
   "execution_count": 3,
   "id": "ab4e2f2a",
   "metadata": {},
   "outputs": [],
   "source": [
    "# Parameters:\n",
    "\n",
    "# Distance Metrics\n",
    "# Euclidean, Manhattan, Cosine\n",
    "\n",
    "# Linkage Parameters\n",
    "# Ward, Complete, Average\n",
    "\n",
    "# Parameter selection method: use trial and error"
   ]
  },
  {
   "cell_type": "code",
   "execution_count": 5,
   "id": "3e21863c",
   "metadata": {},
   "outputs": [],
   "source": [
    "# importing libraries for Hierarchical Clustering Example\n",
    "\n",
    "import numpy as np\n",
    "import pandas as pd\n",
    "\n",
    "import matplotlib.pyplot as plt\n",
    "from pylab import rcParams\n",
    "import seaborn as sb\n",
    "\n",
    "import sklearn\n",
    "import sklearn.metrics as sm"
   ]
  },
  {
   "cell_type": "code",
   "execution_count": 8,
   "id": "2c712cb0",
   "metadata": {},
   "outputs": [],
   "source": [
    "from sklearn.cluster import AgglomerativeClustering\n",
    "\n",
    "import scipy\n",
    "from scipy.cluster.hierarchy import dendrogram, linkage\n",
    "\n",
    "from scipy.cluster.hierarchy import fcluster\n",
    "from scipy.cluster.hierarchy import cophenet\n",
    "from scipy.spatial.distance import pdist"
   ]
  },
  {
   "cell_type": "code",
   "execution_count": 10,
   "id": "af751f37",
   "metadata": {},
   "outputs": [
    {
     "name": "stderr",
     "output_type": "stream",
     "text": [
      "/tmp/ipykernel_43887/3071949272.py:6: MatplotlibDeprecationWarning: The seaborn styles shipped by Matplotlib are deprecated since 3.6, as they no longer correspond to the styles shipped by seaborn. However, they will remain available as 'seaborn-v0_8-<style>'. Alternatively, directly use the seaborn API instead.\n",
      "  plt.style.use('seaborn-whitegrid')\n"
     ]
    }
   ],
   "source": [
    "np.set_printoptions(precision=4, suppress=True)\n",
    "\n",
    "plt.figure(figsize=(10,3))\n",
    "\n",
    "%matplotlib inline\n",
    "plt.style.use('seaborn-whitegrid')"
   ]
  },
  {
   "cell_type": "code",
   "execution_count": 15,
   "id": "e235545d",
   "metadata": {},
   "outputs": [],
   "source": [
    "address = './Data/mtcars.csv'\n",
    "cars = pd.read_csv(address)\n",
    "cars.columns = ['car_names', 'mpg', 'cyl','disp','hp','drat','wt','qsec','vs','am','gear','carb']\n",
    "\n",
    "X = cars[['mpg','disp','hp','wt']].values\n",
    "y = cars.iloc[:,(9)].values"
   ]
  },
  {
   "cell_type": "code",
   "execution_count": null,
   "id": "aa71fd93",
   "metadata": {},
   "outputs": [],
   "source": []
  },
  {
   "cell_type": "code",
   "execution_count": 12,
   "id": "4ac58f05",
   "metadata": {},
   "outputs": [],
   "source": [
    "# Using scipy to generate a dendrogram\n",
    "\n",
    "Z = linkage(X,'ward')"
   ]
  },
  {
   "cell_type": "code",
   "execution_count": 13,
   "id": "15c16da7",
   "metadata": {},
   "outputs": [
    {
     "data": {
      "image/png": "[encoded data removed]",
      "text/plain": [
       "<Figure size 640x480 with 1 Axes>"
      ]
     },
     "metadata": {},
     "output_type": "display_data"
    }
   ],
   "source": [
    "dendrogram(Z, truncate_mode='lastp',p=12,leaf_rotation=45,leaf_font_size=15,show_contracted=True)\n",
    "plt.title('Truncated Hierarchical Clustering Diagram')\n",
    "plt.xlabel('Cluster Size')\n",
    "plt.ylabel('Distance')\n",
    "\n",
    "plt.axhline(y=500)\n",
    "plt.axhline(y=150)\n",
    "plt.show()"
   ]
  },
  {
   "cell_type": "code",
   "execution_count": 16,
   "id": "c17effdb",
   "metadata": {},
   "outputs": [
    {
     "name": "stderr",
     "output_type": "stream",
     "text": [
      "/usr/lib/python3/dist-packages/sklearn/cluster/_agglomerative.py:983: FutureWarning: Attribute `affinity` was deprecated in version 1.2 and will be removed in 1.4. Use `metric` instead\n",
      "  warnings.warn(\n"
     ]
    },
    {
     "data": {
      "text/plain": [
       "0.78125"
      ]
     },
     "execution_count": 16,
     "metadata": {},
     "output_type": "execute_result"
    }
   ],
   "source": [
    "# Generating hierarchical clusters\n",
    "\n",
    "k=2\n",
    "\n",
    "Hclustering = AgglomerativeClustering(n_clusters=k,affinity='euclidean',linkage='ward')\n",
    "Hclustering.fit(X)\n",
    "\n",
    "sm.accuracy_score(y,Hclustering.labels_)"
   ]
  },
  {
   "cell_type": "code",
   "execution_count": 17,
   "id": "4572e36d",
   "metadata": {},
   "outputs": [
    {
     "name": "stderr",
     "output_type": "stream",
     "text": [
      "/usr/lib/python3/dist-packages/sklearn/cluster/_agglomerative.py:983: FutureWarning: Attribute `affinity` was deprecated in version 1.2 and will be removed in 1.4. Use `metric` instead\n",
      "  warnings.warn(\n"
     ]
    },
    {
     "data": {
      "text/plain": [
       "0.78125"
      ]
     },
     "execution_count": 17,
     "metadata": {},
     "output_type": "execute_result"
    }
   ],
   "source": [
    "Hclustering = AgglomerativeClustering(n_clusters=k,affinity='euclidean',linkage='average')\n",
    "Hclustering.fit(X)\n",
    "\n",
    "sm.accuracy_score(y,Hclustering.labels_)"
   ]
  },
  {
   "cell_type": "code",
   "execution_count": 19,
   "id": "07efa862",
   "metadata": {},
   "outputs": [
    {
     "name": "stderr",
     "output_type": "stream",
     "text": [
      "/usr/lib/python3/dist-packages/sklearn/cluster/_agglomerative.py:983: FutureWarning: Attribute `affinity` was deprecated in version 1.2 and will be removed in 1.4. Use `metric` instead\n",
      "  warnings.warn(\n"
     ]
    },
    {
     "data": {
      "text/plain": [
       "0.71875"
      ]
     },
     "execution_count": 19,
     "metadata": {},
     "output_type": "execute_result"
    }
   ],
   "source": [
    "Hclustering = AgglomerativeClustering(n_clusters=k,affinity='manhattan',linkage='average')\n",
    "Hclustering.fit(X)\n",
    "\n",
    "sm.accuracy_score(y,Hclustering.labels_)"
   ]
  },
  {
   "cell_type": "code",
   "execution_count": null,
   "id": "7c5cc5ed",
   "metadata": {},
   "outputs": [],
   "source": []
  }
 ],
 "metadata": {
  "kernelspec": {
   "display_name": "Python 3 (ipykernel)",
   "language": "python",
   "name": "python3"
  },
  "language_info": {
   "codemirror_mode": {
    "name": "ipython",
    "version": 3
   },
   "file_extension": ".py",
   "mimetype": "text/x-python",
   "name": "python",
   "nbconvert_exporter": "python",
   "pygments_lexer": "ipython3",
   "version": "3.11.6"
  }
 },
 "nbformat": 4,
 "nbformat_minor": 5
}
