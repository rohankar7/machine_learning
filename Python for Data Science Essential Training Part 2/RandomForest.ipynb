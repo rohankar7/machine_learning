{
 "cells": [
  {
   "cell_type": "code",
   "execution_count": 1,
   "id": "979cd5bf",
   "metadata": {},
   "outputs": [],
   "source": [
    "# Ensemble Models\n",
    "\n",
    "# Ensemble Models\n",
    "# Ensemble models are machine learning methods that combine several base models toproduce one optimal predictive model.\n",
    "# They combine decisions from multiple models tomprove the overall performance.\n",
    "\n",
    "# The Ensemble can be comprised of same algorithms more than once\n",
    "# Random Forest is an ensemble of decision trees\n",
    "\n",
    "# Types of Ensemble Methods\n",
    "# Max Voting: Picks the result based on the majority votes from different models. Generally used in classification problems.\n",
    "# Averaging: It runs multiple models and then averages the predictions. It can be used in both classification (calculate average of the probabilities) and regression problems.\n",
    "# Weighted Averaging: It uses multiple models to makepredictions by allocating weights to different models predictions and averaging them out.\n",
    "# Bagging: It takes results from multiple models and combnes them to get a final result. Decision trees are used frequently with bagging. The main of bagging is to create subsets of the original data and run different models on the subsets; aggregate result; run the models in parallel.\n",
    "# Boosting: It takes results from multiple models and combines them to get a final result. It creates subsets of the original data and runs different models on the subsets; runs the mdoels sequentially."
   ]
  },
  {
   "cell_type": "code",
   "execution_count": 2,
   "id": "c04b218d",
   "metadata": {},
   "outputs": [],
   "source": [
    "# Random Forest\n",
    "\n",
    "# Random Forest is an ensemble model which follows the bagging method.\n",
    "# This model uses decision trees to form ensembles.\n",
    "# This approach is useful for both classification and regression problems.\n",
    "\n",
    "# How Random Forests work?\n",
    "# When predicting a new value for a target feature, each tree is either using regression or classification to come up with a value that serves as a \"vote\".\n",
    "# It then takes an average of all the votes from all the trees in the ensemble\n",
    "# This average is the predicted value of the target feature for the variable in question."
   ]
  },
  {
   "cell_type": "code",
   "execution_count": 3,
   "id": "1224ae08",
   "metadata": {},
   "outputs": [],
   "source": [
    "# Processes in a Random Forest\n",
    "# 1) Create a random subset from the original data.\n",
    "# 2) Randomly select a set of features at each node in the decision tree.\n",
    "# 3) Decide the best split.\n",
    "# 4) For each subset of data, create a separate model (a \"base learner\").\n",
    "# 5) Compute thefinal prediction by averaging the predictions from all the individual models."
   ]
  },
  {
   "cell_type": "code",
   "execution_count": 4,
   "id": "e08781a1",
   "metadata": {},
   "outputs": [],
   "source": [
    "# Advantages of Random Forest\n",
    "# Easy to understand\n",
    "# Useful for data exploration\n",
    "# Reduced data cleaning (scaling not required)\n",
    "# Handle multiple data types\n",
    "# Highly flexible and gives a good accuracy\n",
    "# Works well on large datasets\n",
    "# Overfitting is avoided (due to averaging)\n",
    "\n",
    "# Disadvantages of Random Forest\n",
    "# Overfitting\n",
    "# Not for continuous variables\n",
    "# Does not work well with sparse datasets\n",
    "# Computationally expensive\n",
    "# No interpretability"
   ]
  },
  {
   "cell_type": "code",
   "execution_count": 5,
   "id": "1d846a4c",
   "metadata": {},
   "outputs": [],
   "source": [
    "# Ensemble methods with Random Forest\n",
    "\n",
    "import numpy as np\n",
    "import pandas as pd\n",
    "\n",
    "import sklearn.datasets as datasets\n",
    "from sklearn.model_selection import train_test_split\n",
    "from sklearn import metrics"
   ]
  },
  {
   "cell_type": "code",
   "execution_count": 6,
   "id": "15b9c93b",
   "metadata": {},
   "outputs": [],
   "source": [
    "from sklearn.ensemble import RandomForestClassifier"
   ]
  },
  {
   "cell_type": "code",
   "execution_count": 7,
   "id": "b5312783",
   "metadata": {},
   "outputs": [],
   "source": [
    "iris = datasets.load_iris()\n",
    "\n",
    "df = pd.DataFrame(iris.data, columns = iris.feature_names)\n",
    "y = pd.DataFrame(iris.target)"
   ]
  },
  {
   "cell_type": "code",
   "execution_count": 9,
   "id": "71f3964d",
   "metadata": {},
   "outputs": [
    {
     "name": "stdout",
     "output_type": "stream",
     "text": [
      "   sepal length (cm)  sepal width (cm)  petal length (cm)  petal width (cm)\n",
      "0                5.1               3.5                1.4               0.2\n",
      "1                4.9               3.0                1.4               0.2\n",
      "2                4.7               3.2                1.3               0.2\n",
      "3                4.6               3.1                1.5               0.2\n",
      "4                5.0               3.6                1.4               0.2\n"
     ]
    },
    {
     "data": {
      "text/html": [
       "<div>\n",
       "<style scoped>\n",
       "    .dataframe tbody tr th:only-of-type {\n",
       "        vertical-align: middle;\n",
       "    }\n",
       "\n",
       "    .dataframe tbody tr th {\n",
       "        vertical-align: top;\n",
       "    }\n",
       "\n",
       "    .dataframe thead th {\n",
       "        text-align: right;\n",
       "    }\n",
       "</style>\n",
       "<table border=\"1\" class=\"dataframe\">\n",
       "  <thead>\n",
       "    <tr style=\"text-align: right;\">\n",
       "      <th></th>\n",
       "      <th>labels</th>\n",
       "    </tr>\n",
       "  </thead>\n",
       "  <tbody>\n",
       "    <tr>\n",
       "      <th>0</th>\n",
       "      <td>0</td>\n",
       "    </tr>\n",
       "    <tr>\n",
       "      <th>1</th>\n",
       "      <td>0</td>\n",
       "    </tr>\n",
       "    <tr>\n",
       "      <th>2</th>\n",
       "      <td>0</td>\n",
       "    </tr>\n",
       "    <tr>\n",
       "      <th>3</th>\n",
       "      <td>0</td>\n",
       "    </tr>\n",
       "    <tr>\n",
       "      <th>4</th>\n",
       "      <td>0</td>\n",
       "    </tr>\n",
       "  </tbody>\n",
       "</table>\n",
       "</div>"
      ],
      "text/plain": [
       "   labels\n",
       "0       0\n",
       "1       0\n",
       "2       0\n",
       "3       0\n",
       "4       0"
      ]
     },
     "execution_count": 9,
     "metadata": {},
     "output_type": "execute_result"
    }
   ],
   "source": [
    "y.columns = ['labels']\n",
    "print(df.head())\n",
    "y[0:5]"
   ]
  },
  {
   "cell_type": "code",
   "execution_count": 10,
   "id": "e04ffa6f",
   "metadata": {},
   "outputs": [
    {
     "data": {
      "text/plain": [
       "sepal length (cm)    False\n",
       "sepal width (cm)     False\n",
       "petal length (cm)    False\n",
       "petal width (cm)     False\n",
       "dtype: bool"
      ]
     },
     "execution_count": 10,
     "metadata": {},
     "output_type": "execute_result"
    }
   ],
   "source": [
    "df.isnull().any() == True"
   ]
  },
  {
   "cell_type": "code",
   "execution_count": 11,
   "id": "89c0ce70",
   "metadata": {},
   "outputs": [
    {
     "name": "stdout",
     "output_type": "stream",
     "text": [
      "0    50\n",
      "1    50\n",
      "2    50\n",
      "Name: labels, dtype: int64\n"
     ]
    }
   ],
   "source": [
    "print(y.labels.value_counts())"
   ]
  },
  {
   "cell_type": "code",
   "execution_count": 13,
   "id": "0c6aeef1",
   "metadata": {},
   "outputs": [],
   "source": [
    "# Preparing the data\n",
    "X_train, X_test, y_train, y_test = train_test_split(df,y,test_size=0.2,random_state=17)"
   ]
  },
  {
   "cell_type": "code",
   "execution_count": 14,
   "id": "9ea134ab",
   "metadata": {},
   "outputs": [],
   "source": [
    "# Build a Random Forest model\n",
    "classifier = RandomForestClassifier(n_estimators=200, random_state=0)\n",
    "\n",
    "# Reformatting the target data\n",
    "y_train_array = np.ravel(y_train)\n",
    "\n",
    "classifier.fit(X_train, y_train_array)\n",
    "\n",
    "y_pred = classifier.predict(X_test)"
   ]
  },
  {
   "cell_type": "code",
   "execution_count": 16,
   "id": "d01cfc86",
   "metadata": {},
   "outputs": [
    {
     "name": "stdout",
     "output_type": "stream",
     "text": [
      "              precision    recall  f1-score   support\n",
      "\n",
      "           0       1.00      1.00      1.00         7\n",
      "           1       0.92      1.00      0.96        11\n",
      "           2       1.00      0.92      0.96        12\n",
      "\n",
      "    accuracy                           0.97        30\n",
      "   macro avg       0.97      0.97      0.97        30\n",
      "weighted avg       0.97      0.97      0.97        30\n",
      "\n"
     ]
    }
   ],
   "source": [
    "# Evaluating the model to test the data\n",
    "print(metrics.classification_report(y_test, y_pred))"
   ]
  },
  {
   "cell_type": "code",
   "execution_count": 17,
   "id": "33648dc8",
   "metadata": {},
   "outputs": [
    {
     "name": "stdout",
     "output_type": "stream",
     "text": [
      "[0 1 2 1 2 2 1 2 1 2 2 0 1 0 2 0 0 2 2 2 2 0 2 1 1 1 1 1 0 1]\n"
     ]
    }
   ],
   "source": [
    "y_test_array = np.ravel(y_test)\n",
    "print(y_test_array)"
   ]
  },
  {
   "cell_type": "code",
   "execution_count": 18,
   "id": "e1377542",
   "metadata": {},
   "outputs": [
    {
     "name": "stdout",
     "output_type": "stream",
     "text": [
      "[0 1 2 1 2 2 1 2 1 2 2 0 1 0 2 0 0 2 2 2 1 0 2 1 1 1 1 1 0 1]\n"
     ]
    }
   ],
   "source": [
    "print(y_pred)"
   ]
  },
  {
   "cell_type": "code",
   "execution_count": null,
   "id": "152bb5ad",
   "metadata": {},
   "outputs": [],
   "source": []
  }
 ],
 "metadata": {
  "kernelspec": {
   "display_name": "Python 3 (ipykernel)",
   "language": "python",
   "name": "python3"
  },
  "language_info": {
   "codemirror_mode": {
    "name": "ipython",
    "version": 3
   },
   "file_extension": ".py",
   "mimetype": "text/x-python",
   "name": "python",
   "nbconvert_exporter": "python",
   "pygments_lexer": "ipython3",
   "version": "3.11.6"
  }
 },
 "nbformat": 4,
 "nbformat_minor": 5
}
